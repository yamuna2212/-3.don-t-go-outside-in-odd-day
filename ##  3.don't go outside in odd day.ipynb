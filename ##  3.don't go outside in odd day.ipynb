{
 "cells": [
  {
   "cell_type": "markdown",
   "id": "ed4a2f1a",
   "metadata": {},
   "source": [
    "##  3.don't go outside in odd day"
   ]
  },
  {
   "cell_type": "code",
   "execution_count": 12,
   "id": "8f54c1b6",
   "metadata": {
    "scrolled": true
   },
   "outputs": [
    {
     "name": "stdout",
     "output_type": "stream",
     "text": [
      "Number of even numbers= 4\n",
      "Number of odd numbers= 5\n"
     ]
    }
   ],
   "source": [
    "n =[1,2,3,4,5,6,7,8,9]\n",
    "e_c=0\n",
    "o_c=0\n",
    "for i in n:\n",
    "    if i%2==0:\n",
    "        e_c+=1\n",
    "    else:\n",
    "        o_c+=1\n",
    "print(\"Number of even numbers=\",e_c)\n",
    "print(\"Number of odd numbers=\",o_c)\n",
    "\n"
   ]
  },
  {
   "cell_type": "markdown",
   "id": "b35fc389",
   "metadata": {},
   "source": [
    "### sample output:\n",
    "           Number of even numbers= 4\n",
    "           Number of odd numbers= 5\n",
    "\n",
    "\n"
   ]
  },
  {
   "cell_type": "code",
   "execution_count": null,
   "id": "3dd73523",
   "metadata": {},
   "outputs": [],
   "source": [
    "\n"
   ]
  },
  {
   "cell_type": "code",
   "execution_count": null,
   "id": "d4b7e788",
   "metadata": {},
   "outputs": [],
   "source": []
  }
 ],
 "metadata": {
  "kernelspec": {
   "display_name": "Python 3 (ipykernel)",
   "language": "python",
   "name": "python3"
  },
  "language_info": {
   "codemirror_mode": {
    "name": "ipython",
    "version": 3
   },
   "file_extension": ".py",
   "mimetype": "text/x-python",
   "name": "python",
   "nbconvert_exporter": "python",
   "pygments_lexer": "ipython3",
   "version": "3.10.1"
  }
 },
 "nbformat": 4,
 "nbformat_minor": 5
}
